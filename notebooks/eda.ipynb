{
 "cells": [
  {
   "cell_type": "code",
   "execution_count": 1,
   "id": "37a1240f-aaf2-49bc-a112-a30bd0b0eb55",
   "metadata": {},
   "outputs": [],
   "source": [
    "import pandas as pd\n",
    "import numpy as np\n",
    "import pyreadr"
   ]
  },
  {
   "cell_type": "markdown",
   "id": "1c55a1a5-c8da-4025-b11b-a3eaeed9aa3b",
   "metadata": {},
   "source": [
    "* original dataset"
   ]
  },
  {
   "cell_type": "code",
   "execution_count": 2,
   "id": "3662c679-4e1c-4da8-b4da-1ec2e6ff9ae1",
   "metadata": {},
   "outputs": [],
   "source": [
    "df = pd.read_csv(\"../data/input/aggregated_2000-2016_medicare_mortality_pm25_zip/aggregate_data.csv\")"
   ]
  },
  {
   "cell_type": "code",
   "execution_count": 3,
   "id": "bca4d634-3e1c-48bc-a162-7cfa81404787",
   "metadata": {},
   "outputs": [
    {
     "data": {
      "text/plain": [
       "(46427917, 26)"
      ]
     },
     "execution_count": 3,
     "metadata": {},
     "output_type": "execute_result"
    }
   ],
   "source": [
    "df.shape"
   ]
  },
  {
   "cell_type": "code",
   "execution_count": 4,
   "id": "9299442e-5c4b-483c-9495-51090fa1eec0",
   "metadata": {},
   "outputs": [
    {
     "data": {
      "text/plain": [
       "Unnamed: 0              int64\n",
       "zip                     int64\n",
       "year                    int64\n",
       "sex                     int64\n",
       "race                    int64\n",
       "dual                    int64\n",
       "entry_age_break         int64\n",
       "followup_year           int64\n",
       "dead                    int64\n",
       "time_count              int64\n",
       "pm25_ensemble         float64\n",
       "mean_bmi              float64\n",
       "smoke_rate            float64\n",
       "hispanic              float64\n",
       "pct_blk               float64\n",
       "medhouseholdincome    float64\n",
       "medianhousevalue      float64\n",
       "poverty               float64\n",
       "education             float64\n",
       "popdensity            float64\n",
       "pct_owner_occ         float64\n",
       "summer_tmmx           float64\n",
       "winter_tmmx           float64\n",
       "summer_rmax           float64\n",
       "winter_rmax           float64\n",
       "region                 object\n",
       "dtype: object"
      ]
     },
     "execution_count": 4,
     "metadata": {},
     "output_type": "execute_result"
    }
   ],
   "source": [
    "df.dtypes"
   ]
  },
  {
   "cell_type": "markdown",
   "id": "f76619a2-8160-4cdd-8158-edf2cd4fd35e",
   "metadata": {},
   "source": [
    "* fake dataset"
   ]
  },
  {
   "cell_type": "code",
   "execution_count": 44,
   "id": "05bcf0c7-8a87-4d30-b763-1bedb3e4d67c",
   "metadata": {},
   "outputs": [],
   "source": [
    "df_fake = pyreadr.read_r(\"../data/output/fake_aggregate_data.rds\")"
   ]
  },
  {
   "cell_type": "code",
   "execution_count": 47,
   "id": "e080a666-3bcf-4928-bda9-c011082fd7c0",
   "metadata": {},
   "outputs": [],
   "source": [
    "df_fake = df_fake[None] #df_fake = next(iter(df_fake.values()))"
   ]
  },
  {
   "cell_type": "code",
   "execution_count": 48,
   "id": "b980ad05-1ceb-4e21-8651-2d15348a6b33",
   "metadata": {},
   "outputs": [
    {
     "data": {
      "text/plain": [
       "(464279, 25)"
      ]
     },
     "execution_count": 48,
     "metadata": {},
     "output_type": "execute_result"
    }
   ],
   "source": [
    "df_fake.shape"
   ]
  },
  {
   "cell_type": "code",
   "execution_count": 49,
   "id": "2b007cf5-14cb-4738-86d5-ac962e146062",
   "metadata": {},
   "outputs": [
    {
     "data": {
      "text/plain": [
       "zip                    object\n",
       "year                  float64\n",
       "sex                   float64\n",
       "race                  float64\n",
       "dual                  float64\n",
       "entry_age_break       float64\n",
       "followup_year         float64\n",
       "dead                  float64\n",
       "region                 object\n",
       "time_count            float64\n",
       "pm25_ensemble         float64\n",
       "mean_bmi              float64\n",
       "smoke_rate            float64\n",
       "hispanic              float64\n",
       "pct_blk               float64\n",
       "medhouseholdincome    float64\n",
       "medianhousevalue      float64\n",
       "poverty               float64\n",
       "education             float64\n",
       "popdensity            float64\n",
       "pct_owner_occ         float64\n",
       "summer_tmmx           float64\n",
       "winter_tmmx           float64\n",
       "summer_rmax           float64\n",
       "winter_rmax           float64\n",
       "dtype: object"
      ]
     },
     "execution_count": 49,
     "metadata": {},
     "output_type": "execute_result"
    }
   ],
   "source": [
    "df_fake.dtypes"
   ]
  },
  {
   "cell_type": "code",
   "execution_count": null,
   "id": "175180ad-f06b-4689-a7b4-06e80af918d4",
   "metadata": {},
   "outputs": [],
   "source": []
  }
 ],
 "metadata": {
  "kernelspec": {
   "display_name": "Python [conda env:.conda-medicare_QC]",
   "language": "python",
   "name": "conda-env-.conda-medicare_QC-py"
  },
  "language_info": {
   "codemirror_mode": {
    "name": "ipython",
    "version": 3
   },
   "file_extension": ".py",
   "mimetype": "text/x-python",
   "name": "python",
   "nbconvert_exporter": "python",
   "pygments_lexer": "ipython3",
   "version": "3.9.12"
  }
 },
 "nbformat": 4,
 "nbformat_minor": 5
}
