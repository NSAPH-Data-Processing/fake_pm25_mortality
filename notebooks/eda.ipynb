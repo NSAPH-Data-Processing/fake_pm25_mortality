{
 "cells": [
  {
   "cell_type": "code",
   "execution_count": 1,
   "id": "37a1240f-aaf2-49bc-a112-a30bd0b0eb55",
   "metadata": {},
   "outputs": [],
   "source": [
    "import pandas as pd\n",
    "import numpy as np\n",
    "import pyreadr"
   ]
  },
  {
   "cell_type": "markdown",
   "id": "1c55a1a5-c8da-4025-b11b-a3eaeed9aa3b",
   "metadata": {},
   "source": [
    "## original dataset"
   ]
  },
  {
   "cell_type": "code",
   "execution_count": 2,
   "id": "bd41f1b1-45b6-4d20-92c2-78896ffb236e",
   "metadata": {},
   "outputs": [],
   "source": [
    "## read dataset ----\n",
    "file = \"../data/input/aggregated_2000-2016_medicare_mortality_pm25_zip/aggregate_data.csv\"\n",
    "df = pd.read_csv(file, nrows=1e6)"
   ]
  },
  {
   "cell_type": "code",
   "execution_count": 4,
   "id": "d903dadf-e701-44d9-a641-632ae0969f08",
   "metadata": {},
   "outputs": [
    {
     "data": {
      "text/plain": [
       "46427918"
      ]
     },
     "execution_count": 4,
     "metadata": {},
     "output_type": "execute_result"
    }
   ],
   "source": [
    "## number of rows ----\n",
    "nrows = sum(1 for line in open(file))\n",
    "nrows"
   ]
  },
  {
   "cell_type": "code",
   "execution_count": 5,
   "id": "9299442e-5c4b-483c-9495-51090fa1eec0",
   "metadata": {},
   "outputs": [
    {
     "data": {
      "text/plain": [
       "Index(['Unnamed: 0', 'zip', 'year', 'sex', 'race', 'dual', 'entry_age_break',\n",
       "       'followup_year', 'dead', 'time_count', 'pm25_ensemble', 'mean_bmi',\n",
       "       'smoke_rate', 'hispanic', 'pct_blk', 'medhouseholdincome',\n",
       "       'medianhousevalue', 'poverty', 'education', 'popdensity',\n",
       "       'pct_owner_occ', 'summer_tmmx', 'winter_tmmx', 'summer_rmax',\n",
       "       'winter_rmax', 'region'],\n",
       "      dtype='object')"
      ]
     },
     "execution_count": 5,
     "metadata": {},
     "output_type": "execute_result"
    }
   ],
   "source": [
    "## columns names ----\n",
    "df.columns"
   ]
  },
  {
   "cell_type": "markdown",
   "id": "f76619a2-8160-4cdd-8158-edf2cd4fd35e",
   "metadata": {},
   "source": [
    "## fake dataset"
   ]
  },
  {
   "cell_type": "code",
   "execution_count": 6,
   "id": "05bcf0c7-8a87-4d30-b763-1bedb3e4d67c",
   "metadata": {},
   "outputs": [],
   "source": [
    "df_fake = pyreadr.read_r(\"../data/output/fake_aggregate_data.rds\")\n",
    "df_fake = df_fake[None] #df_fake = next(iter(df_fake.values()))"
   ]
  },
  {
   "cell_type": "code",
   "execution_count": 7,
   "id": "b980ad05-1ceb-4e21-8651-2d15348a6b33",
   "metadata": {},
   "outputs": [
    {
     "data": {
      "text/plain": [
       "(464279, 25)"
      ]
     },
     "execution_count": 7,
     "metadata": {},
     "output_type": "execute_result"
    }
   ],
   "source": [
    "## number of rows ----\n",
    "df_fake.shape"
   ]
  },
  {
   "cell_type": "code",
   "execution_count": 8,
   "id": "2b007cf5-14cb-4738-86d5-ac962e146062",
   "metadata": {},
   "outputs": [
    {
     "data": {
      "text/plain": [
       "Index(['zip', 'year', 'sex', 'race', 'dual', 'entry_age_break',\n",
       "       'followup_year', 'dead', 'region', 'time_count', 'pm25_ensemble',\n",
       "       'mean_bmi', 'smoke_rate', 'hispanic', 'pct_blk', 'medhouseholdincome',\n",
       "       'medianhousevalue', 'poverty', 'education', 'popdensity',\n",
       "       'pct_owner_occ', 'summer_tmmx', 'winter_tmmx', 'summer_rmax',\n",
       "       'winter_rmax'],\n",
       "      dtype='object')"
      ]
     },
     "execution_count": 8,
     "metadata": {},
     "output_type": "execute_result"
    }
   ],
   "source": [
    "## columns names ----\n",
    "df_fake.columns"
   ]
  },
  {
   "cell_type": "code",
   "execution_count": null,
   "id": "4ccf0a3e-15de-4ad9-b7a6-ac8d4076a002",
   "metadata": {},
   "outputs": [],
   "source": []
  }
 ],
 "metadata": {
  "kernelspec": {
   "display_name": "Python [conda env:.conda-medicare_QC]",
   "language": "python",
   "name": "conda-env-.conda-medicare_QC-py"
  },
  "language_info": {
   "codemirror_mode": {
    "name": "ipython",
    "version": 3
   },
   "file_extension": ".py",
   "mimetype": "text/x-python",
   "name": "python",
   "nbconvert_exporter": "python",
   "pygments_lexer": "ipython3",
   "version": "3.9.12"
  }
 },
 "nbformat": 4,
 "nbformat_minor": 5
}
